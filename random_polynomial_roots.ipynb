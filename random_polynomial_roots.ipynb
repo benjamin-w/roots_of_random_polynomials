{
 "cells": [
  {
   "cell_type": "code",
   "execution_count": 128,
   "metadata": {},
   "outputs": [],
   "source": [
    "import Pkg"
   ]
  },
  {
   "cell_type": "code",
   "execution_count": 1,
   "metadata": {},
   "outputs": [],
   "source": [
    "using PolynomialRoots"
   ]
  },
  {
   "cell_type": "code",
   "execution_count": 134,
   "metadata": {},
   "outputs": [
    {
     "name": "stderr",
     "output_type": "stream",
     "text": [
      "┌ Info: Precompiling LaTeXStrings [b964fa9f-0449-5b57-a5c2-d3ea65f4040f]\n",
      "└ @ Base loading.jl:1260\n"
     ]
    }
   ],
   "source": [
    "using LaTeXStrings"
   ]
  },
  {
   "cell_type": "code",
   "execution_count": 2,
   "metadata": {},
   "outputs": [],
   "source": [
    "using Plots"
   ]
  },
  {
   "cell_type": "code",
   "execution_count": 32,
   "metadata": {},
   "outputs": [
    {
     "data": {
      "text/plain": [
       "clean_up (generic function with 1 method)"
      ]
     },
     "execution_count": 32,
     "metadata": {},
     "output_type": "execute_result"
    }
   ],
   "source": [
    "function clean_up(array)\n",
    "    # Discard numerical errors (norm > 2) and spit out unique different roots\n",
    "    x = vec(array)\n",
    "    xclean = zeros(ComplexF64,0)\n",
    "    for entry in x\n",
    "        if abs(entry) < 10 #? When is it a numerical error?\n",
    "            append!(xclean, entry)\n",
    "        end\n",
    "    end\n",
    "    return unique(xclean)\n",
    "end"
   ]
  },
  {
   "cell_type": "code",
   "execution_count": 47,
   "metadata": {},
   "outputs": [
    {
     "data": {
      "text/plain": [
       "sample_poly_roots (generic function with 1 method)"
      ]
     },
     "execution_count": 47,
     "metadata": {},
     "output_type": "execute_result"
    }
   ],
   "source": [
    "function sample_poly_roots(N, Iter)\n",
    "    # Sample 'Iter' many roots of a polynomial of 'N'th degree\n",
    "    # In an ideal world, Iter should be large compared to 3^N\n",
    "    raw_roots_N = zeros(ComplexF64, N,Iter)\n",
    "    for i in 1:Iter\n",
    "        randomcoeff = [1;rand([-1,0,1],N)] # First coefficient is always one\n",
    "        root_buffer = roots(randomcoeff)\n",
    "        for j in 1:N\n",
    "            raw_roots_N[j,i]=root_buffer[j]\n",
    "        end\n",
    "    end\n",
    "    return roots_N = clean_up(raw_roots_N)\n",
    "end"
   ]
  },
  {
   "cell_type": "code",
   "execution_count": 119,
   "metadata": {},
   "outputs": [
    {
     "data": {
      "text/plain": [
       "naive_scaling (generic function with 1 method)"
      ]
     },
     "execution_count": 119,
     "metadata": {},
     "output_type": "execute_result"
    }
   ],
   "source": [
    "function naive_scaling(n_array)\n",
    "    return [n*3^n for n in n_array]\n",
    "end"
   ]
  },
  {
   "cell_type": "code",
   "execution_count": 54,
   "metadata": {},
   "outputs": [],
   "source": [
    "plot(sample_poly_roots(10,100000), seriestype = [:scatter],xlims = (-2,2),ylims = (-2,2),leg=false, markercolor = :black,marker= :x)\n",
    "savefig(\"root_n10_I100000.png\")"
   ]
  },
  {
   "cell_type": "code",
   "execution_count": 117,
   "metadata": {},
   "outputs": [],
   "source": [
    "N_sizes = 2:20\n",
    "root_scaling_with_N_1000 = [length(sample_poly_roots(N,1000)) for N in N_sizes];\n",
    "root_scaling_with_N_10000 = [length(sample_poly_roots(N,10000)) for N in N_sizes];\n",
    "root_scaling_with_N_100000 = [length(sample_poly_roots(N,100000)) for N in N_sizes];"
   ]
  },
  {
   "cell_type": "code",
   "execution_count": 156,
   "metadata": {},
   "outputs": [],
   "source": [
    "root_scaling_with_N_1000000 = [length(sample_poly_roots(N,1000000)) for N in N_sizes];"
   ]
  },
  {
   "cell_type": "code",
   "execution_count": 161,
   "metadata": {},
   "outputs": [],
   "source": [
    "plot(N_sizes, root_scaling_with_N_1000, seriestype = [:scatter], label=L\"I=10^3\", yaxis=:log, xlabel=L\"N\", ylabel=L\"\\mathrm{Sampled }\\quad|A_{N}|\", legend=:topleft)\n",
    "plot!(N_sizes, root_scaling_with_N_10000, seriestype = [:scatter], label=L\"I=10^4\")\n",
    "plot!(N_sizes, root_scaling_with_N_100000, seriestype = [:scatter],label=L\"I=10^5\")\n",
    "plot!(N_sizes, root_scaling_with_N_1000000, seriestype = [:scatter],label=L\"I=10^6\")\n",
    "plot!(N_sizes, naive_scaling(N_sizes),label=\"Naive scaling\")\n",
    "savefig(\"sampled_A_N_vs_N.png\")"
   ]
  },
  {
   "cell_type": "code",
   "execution_count": 148,
   "metadata": {},
   "outputs": [
    {
     "data": {
      "text/plain": [
       "divide_arrays (generic function with 1 method)"
      ]
     },
     "execution_count": 148,
     "metadata": {},
     "output_type": "execute_result"
    }
   ],
   "source": [
    "function divide_arrays(x,y)\n",
    "    return [x[i]/y[i] for i in 1:length(x)]\n",
    "end"
   ]
  },
  {
   "cell_type": "code",
   "execution_count": 163,
   "metadata": {},
   "outputs": [],
   "source": [
    "plot(N_sizes, divide_arrays(root_scaling_with_N_1000,naive_scaling(N_sizes)), seriestype = [:scatter], label=L\"I=10^3\", xlabel=L\"N\", ylabel=L\"N^{-1}3^{-N}|A_{N}|\", legend=:topright)\n",
    "plot!(N_sizes, divide_arrays(root_scaling_with_N_10000,naive_scaling(N_sizes)), seriestype = [:scatter], label=L\"I=10^4\")\n",
    "plot!(N_sizes, divide_arrays(root_scaling_with_N_100000,naive_scaling(N_sizes)), seriestype = [:scatter], label=L\"I=10^5\")\n",
    "plot!(N_sizes, divide_arrays(root_scaling_with_N_1000000,naive_scaling(N_sizes)), seriestype = [:scatter], label=L\"I=10^6\")\n",
    "savefig(\"sampled_scaling_vs_naive.png\")"
   ]
  },
  {
   "cell_type": "code",
   "execution_count": null,
   "metadata": {},
   "outputs": [],
   "source": []
  }
 ],
 "metadata": {
  "kernelspec": {
   "display_name": "Julia 1.4.1",
   "language": "julia",
   "name": "julia-1.4"
  },
  "language_info": {
   "file_extension": ".jl",
   "mimetype": "application/julia",
   "name": "julia",
   "version": "1.4.1"
  }
 },
 "nbformat": 4,
 "nbformat_minor": 4
}
